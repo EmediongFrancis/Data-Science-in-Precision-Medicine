{
  "cells": [
    {
      "cell_type": "markdown",
      "metadata": {},
      "source": [
        "# Introduction to Proteomics - Data Analysis\n",
        "\n",
        "**Stanford Data Science in Precision Medicine - Module 4**\n",
        "\n",
        "---\n",
        "\n",
        "## iPOP Study: Patient Z Infection and Recovery\n",
        "\n",
        "This notebook analyzes longitudinal proteomic data from the iPOP study, focusing on Patient Z during infection and recovery. We will explore:\n",
        "\n",
        "- Mass spectrometry data processing and quality control\n",
        "- Differential protein expression analysis\n",
        "- Pathway enrichment and functional analysis\n",
        "- Clinical interpretation of acute phase response\n",
        "\n",
        "### Learning Objectives\n",
        "By completing this analysis, you will understand:\n",
        "1. Proteomic data structure and preprocessing\n",
        "2. Statistical methods for differential expression\n",
        "3. Pathway analysis and biological interpretation\n",
        "4. Clinical applications of proteomics in precision medicine\n"
      ]
    },
    {
      "cell_type": "code",
      "execution_count": null,
      "metadata": {},
      "outputs": [],
      "source": [
        "import sys\n",
        "import os\n",
        "sys.path.append(\"./scripts\")\n",
        "\n",
        "import numpy as np\n",
        "import pandas as pd\n",
        "import matplotlib.pyplot as plt\n",
        "import seaborn as sns\n",
        "from scipy import stats\n",
        "import warnings\n",
        "warnings.filterwarnings(\"ignore\")\n",
        "\n",
        "from proteomic_utils import (\n",
        "    ProteomeDataProcessor,\n",
        "    DifferentialProteinAnalyzer,\n",
        "    ProteinPathwayAnalyzer,\n",
        "    ProteomicsVisualizer\n",
        ")\n",
        "from config import DEMO_CONFIG\n",
        "\n",
        "plt.style.use(\"seaborn-v0_8\")\n",
        "sns.set_palette(\"husl\")\n",
        "\n",
        "print(\"\u2713 Libraries imported successfully\")\n",
        "print(\"\u2713 Proteomics utilities loaded\")"
      ]
    },
    {
      "cell_type": "markdown",
      "metadata": {},
      "source": [
        "## 1. Data Loading and Initial Exploration\n",
        "\n",
        "We begin by loading the iPOP Patient Z proteomic data and exploring its structure."
      ]
    },
    {
      "cell_type": "code",
      "execution_count": null,
      "metadata": {},
      "outputs": [],
      "source": [
        "# Initialize data processor\n",
        "processor = ProteomeDataProcessor()\n",
        "\n",
        "# Generate demo data based on iPOP Patient Z study\n",
        "abundance_data, sample_metadata = processor.generate_demo_data(DEMO_CONFIG)\n",
        "\n",
        "print(\"Data Shape:\", abundance_data.shape)\n",
        "print(\"\nSample Metadata:\")\n",
        "print(sample_metadata)\n",
        "\n",
        "print(\"\nFirst few proteins:\")\n",
        "print(abundance_data.columns[:10].tolist())\n",
        "\n",
        "print(\"\nAbundance data preview:\")\n",
        "abundance_data.head()"
      ]
    },
    {
      "cell_type": "markdown",
      "metadata": {},
      "source": [
        "## 2. Data Quality Control\n",
        "\n",
        "Quality control is crucial in proteomics due to technical variability in mass spectrometry."
      ]
    },
    {
      "cell_type": "code",
      "execution_count": null,
      "metadata": {},
      "outputs": [],
      "source": [
        "# Perform quality control\n",
        "qc_results = processor.quality_control(abundance_data, sample_metadata)\n",
        "\n",
        "print(\"Quality Control Results:\")\n",
        "for key, value in qc_results.items():\n",
        "    print(f\"{key}: {value}\")\n",
        "\n",
        "# Visualize missing values\n",
        "visualizer = ProteomicsVisualizer()\n",
        "visualizer.plot_missing_values(abundance_data)\n",
        "plt.show()"
      ]
    },
    {
      "cell_type": "markdown",
      "metadata": {},
      "source": [
        "## 3. Data Normalization\n",
        "\n",
        "We apply median centering normalization to account for technical variation between samples."
      ]
    },
    {
      "cell_type": "code",
      "execution_count": null,
      "metadata": {},
      "outputs": [],
      "source": [
        "# Apply normalization\n",
        "normalized_data = processor.normalize_data(abundance_data, method=\"median_centering\")\n",
        "\n",
        "print(\"Normalization completed\")\n",
        "print(\"\nBefore normalization - sample medians:\")\n",
        "print(abundance_data.median(axis=1))\n",
        "\n",
        "print(\"\nAfter normalization - sample medians:\")\n",
        "print(normalized_data.median(axis=1))\n",
        "\n",
        "# Visualize normalization effect\n",
        "fig, (ax1, ax2) = plt.subplots(1, 2, figsize=(12, 5))\n",
        "\n",
        "abundance_data.boxplot(ax=ax1)\n",
        "ax1.set_title(\"Before Normalization\")\n",
        "ax1.set_xticklabels([])\n",
        "\n",
        "normalized_data.boxplot(ax=ax2)\n",
        "ax2.set_title(\"After Normalization\")\n",
        "ax2.set_xticklabels([])\n",
        "\n",
        "plt.tight_layout()\n",
        "plt.show()"
      ]
    },
    {
      "cell_type": "markdown",
      "metadata": {},
      "source": [
        "## 4. Differential Protein Expression Analysis\n",
        "\n",
        "We analyze differential protein expression between infection and recovery phases using statistical tests."
      ]
    },
    {
      "cell_type": "code",
      "execution_count": null,
      "metadata": {},
      "outputs": [],
      "source": [
        "# Initialize differential analyzer\n",
        "diff_analyzer = DifferentialProteinAnalyzer()\n",
        "\n",
        "# Define infection vs recovery comparison\n",
        "infection_samples = sample_metadata[sample_metadata[\"condition\"] == \"infection\"].index\n",
        "recovery_samples = sample_metadata[sample_metadata[\"condition\"] == \"recovery\"].index\n",
        "\n",
        "print(f\"Infection samples: {len(infection_samples)}\")\n",
        "print(f\"Recovery samples: {len(recovery_samples)}\")\n",
        "\n",
        "# Perform t-test analysis\n",
        "ttest_results = diff_analyzer.t_test_analysis(\n",
        "    normalized_data,\n",
        "    group1_samples=list(infection_samples),\n",
        "    group2_samples=list(recovery_samples)\n",
        ")\n",
        "\n",
        "print(\"\nTop 10 most significant proteins:\")\n",
        "significant_proteins = ttest_results.sort_values(\"p_value\").head(10)\n",
        "print(significant_proteins[[\"fold_change\", \"p_value\", \"p_value_adj\"]])"
      ]
    },
    {
      "cell_type": "markdown",
      "metadata": {},
      "source": [
        "## 5. Pathway Enrichment Analysis\n",
        "\n",
        "We identify enriched biological pathways using the significantly differentially expressed proteins."
      ]
    },
    {
      "cell_type": "code",
      "execution_count": null,
      "metadata": {},
      "outputs": [],
      "source": [
        "# Initialize pathway analyzer\n",
        "pathway_analyzer = ProteinPathwayAnalyzer()\n",
        "\n",
        "# Get significantly upregulated proteins\n",
        "upregulated = ttest_results[\n",
        "    (ttest_results[\"p_value_adj\"] < 0.05) & \n",
        "    (ttest_results[\"fold_change\"] > 1.5)\n",
        "].index.tolist()\n",
        "\n",
        "print(f\"Upregulated proteins: {len(upregulated)}\")\n",
        "print(f\"Upregulated proteins: {upregulated}\")\n",
        "\n",
        "# Perform pathway enrichment\n",
        "enrichment_results = pathway_analyzer.pathway_enrichment(\n",
        "    upregulated,\n",
        "    DEMO_CONFIG[\"pathways\"]\n",
        ")\n",
        "\n",
        "print(\"\nPathway Enrichment Results:\")\n",
        "for pathway, result in enrichment_results.items():\n",
        "    if result[\"p_value\"] < 0.05:\n",
        "        print(f\"{pathway}: p={result[\"p_value\"]:.3f}, OR={result[\"odds_ratio\"]:.2f}\")"
      ]
    },
    {
      "cell_type": "markdown",
      "metadata": {},
      "source": [
        "## 6. Comprehensive Data Visualization\n",
        "\n",
        "We create multiple visualizations to explore the proteomic changes during infection and recovery."
      ]
    },
    {
      "cell_type": "code",
      "execution_count": null,
      "metadata": {},
      "outputs": [],
      "source": [
        "# Create volcano plot\n",
        "print(\"Creating volcano plot...\")\n",
        "visualizer.volcano_plot(ttest_results)\n",
        "plt.show()\n",
        "\n",
        "# Create PCA plot\n",
        "print(\"\nCreating PCA plot...\")\n",
        "visualizer.pca_plot(normalized_data, sample_metadata)\n",
        "plt.show()\n",
        "\n",
        "# Create heatmap of top proteins\n",
        "print(\"\nCreating heatmap...\")\n",
        "top_proteins = ttest_results.sort_values(\"p_value\").head(20).index\n",
        "heatmap_data = normalized_data[top_proteins]\n",
        "visualizer.abundance_heatmap(heatmap_data, sample_metadata)\n",
        "plt.show()"
      ]
    },
    {
      "cell_type": "markdown",
      "metadata": {},
      "source": [
        "## 7. Clinical Interpretation\n",
        "\n",
        "We interpret the results in the context of acute phase response and precision medicine."
      ]
    },
    {
      "cell_type": "code",
      "execution_count": null,
      "metadata": {},
      "outputs": [],
      "source": [
        "# Analyze acute phase response proteins\n",
        "acute_phase_proteins = [\"CRP\", \"SAA1\", \"HP\", \"ALB\", \"APOA1\"]\n",
        "available_acute_phase = [p for p in acute_phase_proteins if p in normalized_data.columns]\n",
        "\n",
        "print(\"Acute Phase Response Analysis:\")\n",
        "print(\"==============================\")\n",
        "\n",
        "for protein in available_acute_phase:\n",
        "    if protein in ttest_results.index:\n",
        "        fc = ttest_results.loc[protein, \"fold_change\"]\n",
        "        pval = ttest_results.loc[protein, \"p_value\"]\n",
        "        print(f\"{protein}: FC={fc:.2f}, p={pval:.3f}\")\n",
        "\n",
        "# Plot protein trajectories\n",
        "if available_acute_phase:\n",
        "    visualizer.plot_protein_comparison(\n",
        "        normalized_data,\n",
        "        available_acute_phase[:4],\n",
        "        sample_metadata\n",
        "    )\n",
        "    plt.show()"
      ]
    },
    {
      "cell_type": "markdown",
      "metadata": {},
      "source": [
        "## 8. Summary and Conclusions\n",
        "\n",
        "### Key Findings\n",
        "\n",
        "1. **Acute Phase Response**: Clear proteomic signature of acute phase response during infection\n",
        "2. **Pathway Enrichment**: Significant enrichment in immune response and complement pathways\n",
        "3. **Recovery Dynamics**: Distinct protein expression patterns during recovery phase\n",
        "4. **Clinical Relevance**: Demonstrates precision medicine potential of proteomics\n",
        "\n",
        "### Biological Interpretation\n",
        "\n",
        "The analysis reveals characteristic changes in the proteome during infection:\n",
        "\n",
        "- **Positive acute phase proteins** (CRP, SAA1, Haptoglobin) show increased expression\n",
        "- **Negative acute phase proteins** (Albumin, Apolipoproteins) show decreased expression\n",
        "- **Complement system** activation is evident from pathway analysis\n",
        "- **Recovery phase** shows normalization of protein levels\n",
        "\n",
        "### Clinical Applications\n",
        "\n",
        "This analysis demonstrates how proteomics can be used for:\n",
        "\n",
        "1. **Disease monitoring**: Tracking infection progression and recovery\n",
        "2. **Biomarker discovery**: Identifying proteins associated with disease states\n",
        "3. **Personalized medicine**: Tailoring treatment based on individual protein profiles\n",
        "4. **Systems biology**: Understanding complex biological networks\n",
        "\n",
        "### Future Directions\n",
        "\n",
        "- Integration with genomic and transcriptomic data\n",
        "- Machine learning approaches for predictive modeling\n",
        "- Clinical validation of identified biomarkers\n",
        "- Expansion to larger patient cohorts"
      ]
    }
  ],
  "metadata": {
    "kernelspec": {
      "display_name": "Python 3",
      "language": "python",
      "name": "python3"
    },
    "language_info": {
      "name": "python",
      "version": "3.8.0"
    }
  },
  "nbformat": 4,
  "nbformat_minor": 4
}