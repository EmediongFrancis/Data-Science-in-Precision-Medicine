{
 "cells": [
  {
   "cell_type": "markdown",
   "metadata": {},
   "source": [
    "# Introduction to Genomic Data Analysis\n",
    "\n",
    "**Stanford Data Ocean - Data Science in Precision Medicine**\n",
    "\n",
    "---\n",
    "\n",
    "## 📚 Overview\n",
    "\n",
    "This notebook demonstrates comprehensive genomic data analysis using the **1000 Genomes Project** dataset. We'll explore:\n",
    "\n",
    "- **Population Genetics**: Analyzing genetic variant frequencies across global populations\n",
    "- **Clinical Annotation**: Integrating genomic variants with cancer databases (COSMIC)\n",
    "- **Gene-Level Analysis**: Interval-based annotation for tumor suppressor genes\n",
    "- **Data Visualization**: Creating informative plots for genomic insights\n",
    "\n",
    "### 🎯 Learning Objectives\n",
    "\n",
    "By the end of this analysis, you will understand:\n",
    "1. How to query large-scale genomic databases using cloud infrastructure (AWS Athena)\n",
    "2. Methods for analyzing population-specific genetic variations\n",
    "3. Techniques for annotating variants with clinical significance\n",
    "4. Approaches to visualizing genomic data effectively"
   ]
  },
  {
   "cell_type": "markdown",
   "metadata": {},
   "source": [
    "## 🛠️ Setup and Imports\n",
    "\n",
    "Let's start by importing our custom genomic analysis utilities and setting up the environment."
   ]
  },
  {
   "cell_type": "code",
   "execution_count": null,
   "metadata": {},
   "outputs": [],
   "source": [
    "# Add the scripts directory to Python path\n",
    "import sys\n",
    "import os\n",
    "sys.path.append('../scripts')\n",
    "\n",
    "# Import our custom genomic utilities\n",
    "from genomic_utils import GenomicDataProcessor, VariantAnnotator, GenomicVisualizer\n",
    "from config import DATABASE_TABLES, DEMO_SNPS, get_demo_snp_info\n",
    "\n",
    "# Standard libraries\n",
    "import pandas as pd\n",
    "import numpy as np\n",
    "import matplotlib.pyplot as plt\n",
    "import seaborn as sns\n",
    "import pyathena\n",
    "from IPython.display import display\n",
    "\n",
    "# Configure display options\n",
    "pd.set_option('display.max_columns', None)\n",
    "plt.style.use('default')\n",
    "sns.set_palette(\"husl\")\n",
    "\n",
    "print(\"✅ Libraries imported successfully!\")\n",
    "print(\"🧬 Ready for genomic data analysis\")"
   ]
  },
  {
   "cell_type": "markdown",
   "metadata": {},
   "source": [
    "## 🔗 Database Connection\n",
    "\n",
    "Connect to AWS Athena to access the genomic databases. Make sure your AWS credentials are configured."
   ]
  },
  {
   "cell_type": "code",
   "execution_count": null,
   "metadata": {},
   "outputs": [],
   "source": [
    "# AWS Configuration\n",
    "S3_STAGING_DIR = \"s3://athena-output-351869726285/\"\n",
    "AWS_REGION = \"us-east-1\"\n",
    "\n",
    "# Initialize database connection\n",
    "try:\n",
    "    conn = pyathena.connect(\n",
    "        s3_staging_dir=S3_STAGING_DIR,\n",
    "        region_name=AWS_REGION,\n",
    "        encryption_option='SSE_S3'\n",
    "    )\n",
    "    print(\"🎉 Successfully connected to AWS Athena!\")\n",
    "    print(f\"📍 Region: {AWS_REGION}\")\n",
    "    print(f\"📁 S3 Staging: {S3_STAGING_DIR}\")\n",
    "except Exception as e:\n",
    "    print(f\"❌ Connection failed: {e}\")\n",
    "    print(\"💡 Make sure your AWS credentials are configured properly\")"
   ]
  },
  {
   "cell_type": "markdown",
   "metadata": {},
   "source": [
    "## 🔍 Data Exploration\n",
    "\n",
    "Let's start by exploring the structure of our genomic datasets."
   ]
  },
  {
   "cell_type": "code",
   "execution_count": null,
   "metadata": {},
   "outputs": [],
   "source": [
    "# Query sample data from the 1000 Genomes Project\n",
    "print(\"�� Exploring 1000 Genomes Project Dataset...\")\n",
    "sample_query = f\"SELECT * FROM {DATABASE_TABLES['g1000_csv_int']} LIMIT 10\"\n",
    "sample_data = pd.read_sql(sample_query, conn)\n",
    "\n",
    "print(f\"📋 Dataset shape: {sample_data.shape}\")\n",
    "print(f\"📝 Columns: {list(sample_data.columns)}\")\n",
    "display(sample_data.head())"
   ]
  },
  {
   "cell_type": "markdown",
   "metadata": {},
   "source": [
    "## 👁️ SNP Analysis: The Genetics of Eye Color\n",
    "\n",
    "Let's analyze **rs12913832**, a famous SNP associated with blue vs. brown eye color."
   ]
  },
  {
   "cell_type": "code",
   "execution_count": null,
   "metadata": {},
   "outputs": [],
   "source": [
    "# Initialize our genomic data processor\n",
    "processor = GenomicDataProcessor()\n",
    "\n",
    "# Query the eye color SNP\n",
    "eye_color_snp = \"rs12913832\"\n",
    "snp_info = get_demo_snp_info(eye_color_snp)\n",
    "\n",
    "print(f\"👁️ Analyzing: {snp_info['name']}\")\n",
    "print(f\"📍 Description: {snp_info['description']}\")\n",
    "\n",
    "# Query the SNP data\n",
    "snp_query = f\"\"\"\n",
    "SELECT * FROM {DATABASE_TABLES['g1000_csv_int']}\n",
    "WHERE rsid = '{eye_color_snp}'\n",
    "\"\"\"\n",
    "\n",
    "snp_data = pd.read_sql(snp_query, conn)\n",
    "display(snp_data)"
   ]
  },
  {
   "cell_type": "code",
   "execution_count": null,
   "metadata": {},
   "outputs": [],
   "source": [
    "# Extract and visualize population frequencies\n",
    "if not snp_data.empty:\n",
    "    info_text = snp_data.iloc[0]['info']\n",
    "    population_frequencies = processor.extract_population_frequencies(info_text)\n",
    "    \n",
    "    print(f\"\\n🌍 Population Frequencies for {eye_color_snp}:\")\n",
    "    for population, frequency in population_frequencies.items():\n",
    "        print(f\"   {population}: {frequency:.2f}%\")\n",
    "    \n",
    "    # Create visualization\n",
    "    processor.plot_population_frequencies(\n",
    "        population_frequencies, \n",
    "        title=f\"Population Frequencies: {snp_info['name']} ({eye_color_snp})\"\n",
    "    )\n",
    "else:\n",
    "    print(\"❌ SNP data not found\")"
   ]
  },
  {
   "cell_type": "markdown",
   "metadata": {},
   "source": [
    "## 🔬 Offline Analysis (Without AWS)\n",
    "\n",
    "If you don't have AWS access, you can still explore the functionality using sample data:"
   ]
  },
  {
   "cell_type": "code",
   "execution_count": null,
   "metadata": {},
   "outputs": [],
   "source": [
    "# Demo with sample data (works without AWS)\n",
    "print(\"🧬 Running offline demo with sample data...\")\n",
    "\n",
    "# Sample VCF info field for rs12913832 (eye color SNP)\n",
    "sample_info = \"AC=2;AN=5008;AF=0.000399361;EAS_AF=0.002;AMR_AF=0.2017;AFR_AF=0.0023;EUR_AF=0.6362;SAS_AF=0.028\"\n",
    "\n",
    "# Extract population frequencies\n",
    "processor = GenomicDataProcessor()\n",
    "pop_frequencies = processor.extract_population_frequencies(sample_info)\n",
    "\n",
    "print(\"\\n🌍 Eye Color SNP Population Frequencies:\")\n",
    "for population, frequency in pop_frequencies.items():\n",
    "    print(f\"   {population:20s}: {frequency:6.2f}%\")\n",
    "\n",
    "# Create visualization\n",
    "processor.plot_population_frequencies(\n",
    "    pop_frequencies,\n",
    "    title=\"Eye Color SNP (rs12913832) - Population Frequencies\"\n",
    ")"
   ]
  },
  {
   "cell_type": "markdown",
   "metadata": {},
   "source": [
    "## 🎯 Summary and Key Findings\n",
    "\n",
    "### 🔬 What We Accomplished\n",
    "\n",
    "1. **Population Genetics Analysis**: Demonstrated how genetic variants vary across global populations\n",
    "2. **Data Processing**: Used our custom genomic utilities for analysis\n",
    "3. **Visualization**: Created informative plots for genomic insights\n",
    "\n",
    "### 🌟 Key Insights\n",
    "\n",
    "- **Genetic Diversity**: Human populations show remarkable genetic diversity\n",
    "- **Clinical Relevance**: Population frequency data is crucial for variant interpretation\n",
    "- **Quality Control**: Proper data filtering is essential for reliable analysis\n",
    "\n",
    "### 🚀 Next Steps\n",
    "\n",
    "- Try the `demo.py` script for a complete offline demonstration\n",
    "- Explore the `scripts/genomic_utils.py` file to see all available methods\n",
    "- Set up AWS credentials to analyze real genomic data\n",
    "\n",
    "---\n",
    "\n",
    "*This analysis demonstrates practical applications of cloud-based genomic data analysis for precision medicine research as part of the Stanford Data Ocean certificate program.*"
   ]
  }
 ],
 "metadata": {
  "kernelspec": {
   "display_name": "Python 3 (ipykernel)",
   "language": "python",
   "name": "python3"
  },
  "language_info": {
   "codemirror_mode": {
    "name": "ipython",
    "version": 3
   },
   "file_extension": ".py",
   "mimetype": "text/x-python",
   "name": "python",
   "nbconvert_exporter": "python",
   "pygments_lexer": "ipython3",
   "version": "3.9.16"
  }
 },
 "nbformat": 4,
 "nbformat_minor": 4
}
